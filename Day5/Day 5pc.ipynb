{
 "cells": [
  {
   "cell_type": "code",
   "execution_count": 1,
   "metadata": {
    "collapsed": true
   },
   "outputs": [],
   "source": [
    "# Advent of Code 2019\n",
    "import numpy as np\n",
    "import pandas as pd\n",
    "\n",
    "# Input import\n",
    "i = 'pc' # initial\n",
    "d5 = pd.read_csv('input_5%s.txt' %i,header=None)\n",
    "\n",
    "# Test sequence\n",
    "# d = [1002,4,3,4,33]"
   ]
  },
  {
   "cell_type": "code",
   "execution_count": null,
   "metadata": {
    "collapsed": true
   },
   "outputs": [],
   "source": [
    "# Opcode functions\n",
    "def one(pos,data):\n",
    "    data[data[pos+3]] = data[data[pos+1]] + data[data[pos+2]]\n",
    "    return data\n",
    "def two(pos,data):\n",
    "    data[data[pos+3]] = data[data[pos+1]] * data[data[pos+2]]\n",
    "    return data\n",
    "def three(pos,val,data):\n",
    "    data[pos] = val\n",
    "def four(pos,val,data):\n",
    "    return data[pos]"
   ]
  },
  {
   "cell_type": "code",
   "execution_count": null,
   "metadata": {
    "collapsed": true
   },
   "outputs": [],
   "source": [
    "# Challenge 2.1\n",
    "d = d5.copy()\n",
    "\n",
    "# 1202 program state\n",
    "d[1] = 12\n",
    "d[2] = 2\n",
    "\n",
    "pos = 0\n",
    "val = 0\n",
    "while val != 99:\n",
    "    val = d.loc[pos]\n",
    "    if val == 1:\n",
    "        d = one(pos,d)\n",
    "        pos += 4\n",
    "    elif val == 2:\n",
    "        d = two(pos,d)\n",
    "        pos += 4\n",
    "    elif val == 3:\n",
    "        d = three(pos,d)\n",
    "        pos += 3\n",
    "    elif val == 4:\n",
    "        d = four(pos,d)\n",
    "        pos += 3\n",
    "\n",
    "print('Val at pos 0 = %i' %d[0])"
   ]
  }
 ],
 "metadata": {
  "kernelspec": {
   "display_name": "Python 3",
   "language": "python",
   "name": "python3"
  },
  "language_info": {
   "codemirror_mode": {
    "name": "ipython",
    "version": 3
   },
   "file_extension": ".py",
   "mimetype": "text/x-python",
   "name": "python",
   "nbconvert_exporter": "python",
   "pygments_lexer": "ipython3",
   "version": "3.6.3"
  }
 },
 "nbformat": 4,
 "nbformat_minor": 2
}
