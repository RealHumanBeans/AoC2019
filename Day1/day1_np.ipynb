{
  "nbformat": 4,
  "nbformat_minor": 0,
  "metadata": {
    "colab": {
      "name": "day1_np.ipynb",
      "provenance": [],
      "collapsed_sections": [],
      "toc_visible": true
    },
    "kernelspec": {
      "name": "python3",
      "display_name": "Python 3"
    }
  },
  "cells": [
    {
      "cell_type": "markdown",
      "metadata": {
        "id": "XldP1YAW8jQP"
      },
      "source": [
        "# [Advent of Code 2019 Day 1](https://adventofcode.com/2019/day/1#part2)\n",
        "\n",
        "--- Day 1: The Tyranny of the Rocket Equation ---\n",
        "\n",
        "--- Part 1 ---\n",
        "\n",
        "Santa has become stranded at the edge of the Solar System while delivering presents to other planets! To accurately calculate his position in space, safely align his warp drive, and return to Earth in time to save Christmas, he needs you to bring him measurements from fifty stars.\n",
        "\n",
        "Collect stars by solving puzzles. Two puzzles will be made available on each day in the Advent calendar; the second puzzle is unlocked when you complete the first. Each puzzle grants one star. Good luck!\n",
        "\n",
        "The Elves quickly load you into a spacecraft and prepare to launch.\n",
        "\n",
        "At the first Go / No Go poll, every Elf is Go until the Fuel Counter-Upper. They haven't determined the amount of fuel required yet.\n",
        "\n",
        "Fuel required to launch a given module is based on its mass. Specifically, to find the fuel required for a module, take its mass, divide by three, round down, and subtract 2.\n",
        "\n",
        "For example:\n",
        "  - For a mass of 12, divide by 3 and round down to get 4, then subtract 2 to get 2.\n",
        "  - For a mass of 14, dividing by 3 and rounding down still yields 4, so the fuel required is also 2.\n",
        "  - For a mass of 1969, the fuel required is 654.\n",
        "  - For a mass of 100756, the fuel required is 33583.\n",
        "\n",
        "The Fuel Counter-Upper needs to know the total fuel requirement. To find it, individually calculate the fuel needed for the mass of each module (your puzzle input), then add together all the fuel values.\n",
        "\n",
        "What is the sum of the fuel requirements for all of the modules on your spacecraft?"
      ]
    },
    {
      "cell_type": "code",
      "metadata": {
        "id": "nu0S95jGS1dk",
        "outputId": "b98a1caa-addb-4246-dc5b-339fe58edd76",
        "colab": {
          "base_uri": "https://localhost:8080/",
          "height": 54
        }
      },
      "source": [
        "# Load the Drive helper and mount\n",
        "from google.colab import drive\n",
        "\n",
        "# This will prompt for authorization.\n",
        "drive.mount('/content/drive')"
      ],
      "execution_count": null,
      "outputs": [
        {
          "output_type": "stream",
          "text": [
            "Drive already mounted at /content/drive; to attempt to forcibly remount, call drive.mount(\"/content/drive\", force_remount=True).\n"
          ],
          "name": "stdout"
        }
      ]
    },
    {
      "cell_type": "code",
      "metadata": {
        "id": "U2RkvV7JTGfN",
        "outputId": "de042da9-4ad8-4801-dc2e-8fe7278d03ca",
        "colab": {
          "base_uri": "https://localhost:8080/",
          "height": 34
        }
      },
      "source": [
        "# After executing the cell above, Drive\n",
        "# files will be present in \"/content/drive/My Drive\".\n",
        "!ls \"/content/drive/My Drive/Colab Notebooks/AoC2019/day1\""
      ],
      "execution_count": null,
      "outputs": [
        {
          "output_type": "stream",
          "text": [
            "input_np.txt  part1_np.ipynb\n"
          ],
          "name": "stdout"
        }
      ]
    },
    {
      "cell_type": "code",
      "metadata": {
        "id": "xS-svTwkWvia"
      },
      "source": [
        "# Load libraries\n",
        "import math"
      ],
      "execution_count": null,
      "outputs": []
    },
    {
      "cell_type": "code",
      "metadata": {
        "id": "IMqFx0-P8gMV"
      },
      "source": [
        "# Read input file\n",
        "f = open('/content/drive/My Drive/Colab Notebooks/AoC2019/day1/input_np.txt', 'r+')\n",
        "mass = f.readlines()\n",
        "f.close()\n",
        "\n",
        "# Convert input to int\n",
        "for i in range(0, len(mass)):\n",
        "  mass[i] = int(mass[i])"
      ],
      "execution_count": null,
      "outputs": []
    },
    {
      "cell_type": "code",
      "metadata": {
        "id": "u55n0PZbTsh5",
        "outputId": "2db8d0cb-6d89-4d47-e7f6-9d11e520132f",
        "colab": {
          "base_uri": "https://localhost:8080/",
          "height": 34
        }
      },
      "source": [
        "# Calculate total fuel requirement for modules\n",
        "fuel_module_total = 0\n",
        "for m in mass: \n",
        "  fuel = math.floor(m/3) - 2\n",
        "  fuel_module_total += fuel\n",
        "print(\"Total fuel requirement:\", fuel_module_total)"
      ],
      "execution_count": null,
      "outputs": [
        {
          "output_type": "stream",
          "text": [
            "Total fuel requirement: 3363760\n"
          ],
          "name": "stdout"
        }
      ]
    },
    {
      "cell_type": "markdown",
      "metadata": {
        "id": "cC5zwCOck8Pl"
      },
      "source": [
        "--- Part 2 ---\n",
        "\n",
        "During the second Go / No Go poll, the Elf in charge of the Rocket Equation Double-Checker stops the launch sequence. Apparently, you forgot to include additional fuel for the fuel you just added.\n",
        "\n",
        "Fuel itself requires fuel just like a module - take its mass, divide by three, round down, and subtract 2. However, that fuel also requires fuel, and that fuel requires fuel, and so on. Any mass that would require negative fuel should instead be treated as if it requires zero fuel; the remaining mass, if any, is instead handled by wishing really hard, which has no mass and is outside the scope of this calculation.\n",
        "\n",
        "So, for each module mass, calculate its fuel and add it to the total. Then, treat the fuel amount you just calculated as the input mass and repeat the process, continuing until a fuel requirement is zero or negative. For example:\n",
        "\n",
        "  - A module of mass 14 requires 2 fuel. This fuel requires no further fuel (2 divided by 3 and rounded down is 0, which would call for a negative fuel), so the total fuel required is still just 2.\n",
        "  - At first, a module of mass 1969 requires 654 fuel. Then, this fuel requires 216 more fuel (654 / 3 - 2). 216 then requires 70 more fuel, which requires 21 fuel, which requires 5 fuel, which requires no further fuel. So, the total fuel required for a module of mass 1969 is 654 + 216 + 70 + 21 + 5 = 966.\n",
        "  - The fuel required by a module of mass 100756 and its fuel is: 33583 + 11192 + 3728 + 1240 + 411 + 135 + 43 + 12 + 2 = 50346.\n",
        "  \n",
        "What is the sum of the fuel requirements for all of the modules on your spacecraft when also taking into account the mass of the added fuel? (Calculate the fuel requirements for each module separately, then add them all up at the end.)"
      ]
    },
    {
      "cell_type": "code",
      "metadata": {
        "id": "etccXx57lFAs",
        "outputId": "7c423475-ee14-4874-a1c5-3709c9c50b34",
        "colab": {
          "base_uri": "https://localhost:8080/",
          "height": 34
        }
      },
      "source": [
        "# Account for fuel mass \n",
        "fuel_total = 0\n",
        "for m in mass: \n",
        "  fuel = math.floor(int(m)/3) - 2\n",
        "  additional_fuel = math.floor(fuel/3) - 2 \n",
        "  while additional_fuel > 0:\n",
        "    fuel += additional_fuel\n",
        "    additional_fuel = math.floor(additional_fuel/3) - 2\n",
        "  fuel_total += fuel\n",
        "print(\"Total fuel requirement:\", fuel_total)"
      ],
      "execution_count": null,
      "outputs": [
        {
          "output_type": "stream",
          "text": [
            "Total fuel requirement: 5042767\n"
          ],
          "name": "stdout"
        }
      ]
    }
  ]
}