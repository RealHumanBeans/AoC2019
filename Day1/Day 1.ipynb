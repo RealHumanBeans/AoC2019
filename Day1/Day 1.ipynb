{
 "cells": [
  {
   "cell_type": "code",
   "execution_count": 1,
   "metadata": {},
   "outputs": [],
   "source": [
    "# Advent of Code 2019\n",
    "import numpy as np\n",
    "import pandas as pd\n",
    "\n",
    "i = 'pc' # initial"
   ]
  },
  {
   "cell_type": "code",
   "execution_count": 2,
   "metadata": {},
   "outputs": [],
   "source": [
    "d1 = pd.read_csv('input_1%s.txt' %i,header=None)\n",
    "\n",
    "def fuelcalc(n):\n",
    "    return np.floor(n/3)-2"
   ]
  },
  {
   "cell_type": "code",
   "execution_count": 3,
   "metadata": {},
   "outputs": [
    {
     "name": "stdout",
     "output_type": "stream",
     "text": [
      "Total fuel = 3336439\n"
     ]
    }
   ],
   "source": [
    "# Challenge 1.1\n",
    "fuel = pd.DataFrame()\n",
    "fuel[1] = fuelcalc(d1[0])\n",
    "print('Total fuel = %i' %fuel.sum())"
   ]
  },
  {
   "cell_type": "code",
   "execution_count": 4,
   "metadata": {},
   "outputs": [
    {
     "name": "stdout",
     "output_type": "stream",
     "text": [
      "Total fuel = 5001791\n"
     ]
    }
   ],
   "source": [
    "# Challenge 1.1\n",
    "n = 1\n",
    "fuelsum = 1\n",
    "while fuelsum > 0:\n",
    "    fuel[n+1] = fuelcalc(fuel[n]).clip(lower=0)\n",
    "    fuelsum = fuel[n+1].sum()\n",
    "    n += 1\n",
    "print('Total fuel = %i' %fuel.sum().sum())"
   ]
  },
  {
   "cell_type": "code",
   "execution_count": null,
   "metadata": {},
   "outputs": [],
   "source": []
  }
 ],
 "metadata": {
  "kernelspec": {
   "display_name": "Python 3",
   "language": "python",
   "name": "python3"
  },
  "language_info": {
   "codemirror_mode": {
    "name": "ipython",
    "version": 3
   },
   "file_extension": ".py",
   "mimetype": "text/x-python",
   "name": "python",
   "nbconvert_exporter": "python",
   "pygments_lexer": "ipython3",
   "version": "3.7.6"
  }
 },
 "nbformat": 4,
 "nbformat_minor": 2
}
