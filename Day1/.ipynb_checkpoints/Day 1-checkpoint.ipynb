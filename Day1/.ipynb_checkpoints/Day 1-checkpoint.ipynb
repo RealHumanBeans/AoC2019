{
 "cells": [
  {
   "cell_type": "code",
   "execution_count": 1,
   "metadata": {
    "collapsed": true
   },
   "outputs": [],
   "source": [
    "# Advent of Code 2019\n",
    "import numpy as np\n",
    "import pandas as pd\n",
    "\n",
    "i = 'pc' # initial"
   ]
  },
  {
   "cell_type": "code",
   "execution_count": 2,
   "metadata": {
    "collapsed": true
   },
   "outputs": [],
   "source": [
    "def fuelcalc(n):\n",
    "    return np.floor(n/3)-2"
   ]
  },
  {
   "cell_type": "code",
   "execution_count": 3,
   "metadata": {},
   "outputs": [
    {
     "name": "stdout",
     "output_type": "stream",
     "text": [
      "Total fuel = 3336439\n"
     ]
    }
   ],
   "source": [
    "# Challenge 1.1\n",
    "d1 = pd.read_csv('input_1%s.txt' %i,header=None)\n",
    "d1['fuel'] = np.floor(d1[0]/3)-2\n",
    "print('Total fuel = %i' %d1['fuel'].sum())"
   ]
  },
  {
   "cell_type": "code",
   "execution_count": 4,
   "metadata": {},
   "outputs": [
    {
     "name": "stdout",
     "output_type": "stream",
     "text": [
      "Total fuel = 3336439\n"
     ]
    }
   ],
   "source": [
    "# Challenge 1.2\n",
    "fuelsum = 0\n",
    "for ii,row in enumerate(d1[0]):\n",
    "    fuelsum += fuelcalc(row)\n",
    "    \n",
    "print('Total fuel = %i' %fuelsum)"
   ]
  },
  {
   "cell_type": "code",
   "execution_count": null,
   "metadata": {
    "collapsed": true
   },
   "outputs": [],
   "source": []
  }
 ],
 "metadata": {
  "kernelspec": {
   "display_name": "Python 3",
   "language": "python",
   "name": "python3"
  },
  "language_info": {
   "codemirror_mode": {
    "name": "ipython",
    "version": 3
   },
   "file_extension": ".py",
   "mimetype": "text/x-python",
   "name": "python",
   "nbconvert_exporter": "python",
   "pygments_lexer": "ipython3",
   "version": "3.6.3"
  }
 },
 "nbformat": 4,
 "nbformat_minor": 2
}
