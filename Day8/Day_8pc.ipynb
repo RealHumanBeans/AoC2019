{
 "cells": [
  {
   "cell_type": "code",
   "execution_count": 23,
   "metadata": {},
   "outputs": [],
   "source": [
    "import numpy as np\n",
    "import pandas as pd\n",
    "\n",
    "# Input import\n",
    "i = 'pc' # initial\n",
    "with open('input_8%s.txt' %i, encoding='utf8') as f:\n",
    "    for line in f:\n",
    "        d8 = line\n",
    "        \n",
    "# Image dimensions\n",
    "ix,iy = (25,6)\n",
    "ixy   = ix*iy"
   ]
  },
  {
   "cell_type": "code",
   "execution_count": 29,
   "metadata": {},
   "outputs": [
    {
     "name": "stdout",
     "output_type": "stream",
     "text": [
      "Number of 1's * 2's = 8Number of 1's * 2's = 8Number of 1's * 2's = 8Number of 1's * 2's = 8Number of 1's * 2's = 8Number of 1's * 2's = 8Number of 1's * 2's = 8Number of 1's * 2's = 8Number of 1's * 2's = 8Number of 1's * 2's = 8Number of 1's * 2's = 8Number of 1's * 2's = 8Number of 1's * 2's = 8Number of 1's * 2's = 8Number of 1's * 2's = 8Number of 1's * 2's = 8Number of 1's * 2's = 8Number of 1's * 2's = 8Number of 1's * 2's = 8Number of 1's * 2's = 8Number of 1's * 2's = 8Number of 1's * 2's = 8Number of 1's * 2's = 8Number of 1's * 2's = 8Number of 1's * 2's = 8Number of 1's * 2's = 8Number of 1's * 2's = 8Number of 1's * 2's = 8Number of 1's * 2's = 8Number of 1's * 2's = 8Number of 1's * 2's = 8Number of 1's * 2's = 8Number of 1's * 2's = 8Number of 1's * 2's = 8Number of 1's * 2's = 8Number of 1's * 2's = 8Number of 1's * 2's = 8Number of 1's * 2's = 8Number of 1's * 2's = 8Number of 1's * 2's = 8Number of 1's * 2's = 8Number of 1's * 2's = 8Number of 1's * 2's = 8Number of 1's * 2's = 8Number of 1's * 2's = 8Number of 1's * 2's = 8Number of 1's * 2's = 8Number of 1's * 2's = 8Number of 1's * 2's = 8Number of 1's * 2's = 8Number of 1's * 2's = 8Number of 1's * 2's = 8Number of 1's * 2's = 8Number of 1's * 2's = 8Number of 1's * 2's = 8Number of 1's * 2's = 8Number of 1's * 2's = 8Number of 1's * 2's = 8Number of 1's * 2's = 8Number of 1's * 2's = 8Number of 1's * 2's = 8Number of 1's * 2's = 8Number of 1's * 2's = 8Number of 1's * 2's = 8Number of 1's * 2's = 8Number of 1's * 2's = 8Number of 1's * 2's = 8Number of 1's * 2's = 8Number of 1's * 2's = 8Number of 1's * 2's = 8Number of 1's * 2's = 8Number of 1's * 2's = 8Number of 1's * 2's = 8Number of 1's * 2's = 8Number of 1's * 2's = 8Number of 1's * 2's = 8Number of 1's * 2's = 8Number of 1's * 2's = 8Number of 1's * 2's = 8Number of 1's * 2's = 8Number of 1's * 2's = 8Number of 1's * 2's = 8Number of 1's * 2's = 8Number of 1's * 2's = 8Number of 1's * 2's = 8Number of 1's * 2's = 8Number of 1's * 2's = 8Number of 1's * 2's = 8Number of 1's * 2's = 8Number of 1's * 2's = 8Number of 1's * 2's = 8Number of 1's * 2's = 8Number of 1's * 2's = 8Number of 1's * 2's = 8Number of 1's * 2's = 8Number of 1's * 2's = 8Number of 1's * 2's = 8Number of 1's * 2's = 8Number of 1's * 2's = 8Number of 1's * 2's = 8Number of 1's * 2's = 8Number of 1's * 2's = 8Number of 1's * 2's = 8Number of 1's * 2's = 8Number of 1's * 2's = 8Number of 1's * 2's = 8Number of 1's * 2's = 8Number of 1's * 2's = 8Number of 1's * 2's = 8Number of 1's * 2's = 8Number of 1's * 2's = 8Number of 1's * 2's = 8Number of 1's * 2's = 8Number of 1's * 2's = 8Number of 1's * 2's = 8Number of 1's * 2's = 8Number of 1's * 2's = 8Number of 1's * 2's = 8Number of 1's * 2's = 8Number of 1's * 2's = 8Number of 1's * 2's = 8Number of 1's * 2's = 8Number of 1's * 2's = 8Number of 1's * 2's = 8Number of 1's * 2's = 8Number of 1's * 2's = 8Number of 1's * 2's = 8Number of 1's * 2's = 8Number of 1's * 2's = 8Number of 1's * 2's = 8Number of 1's * 2's = 8Number of 1's * 2's = 8Number of 1's * 2's = 8Number of 1's * 2's = 8\n"
     ]
    }
   ],
   "source": [
    "# Challenge 8.1\n",
    "\n",
    "# Split into layers of x*y size\n",
    "layers = int(len(d8)/(ixy))\n",
    "layer_list = []\n",
    "\n",
    "# Count zeros in each layer\n",
    "count0 = 150\n",
    "for ii in range(layers):\n",
    "    layer_list += [d8[ii*ixy:ii*ixy+ixy]]\n",
    "    count = layer_list[-1].count('0')\n",
    "    if count < count0:\n",
    "        count0 = count\n",
    "        count1 = layer_list[-1].count('1')\n",
    "        count2 = layer_list[-1].count('2')\n",
    "\n",
    "print('Number of 1\\'s * 2\\'s = %s' %count1*count2)"
   ]
  },
  {
   "cell_type": "code",
   "execution_count": 28,
   "metadata": {},
   "outputs": [
    {
     "data": {
      "text/plain": [
       "64"
      ]
     },
     "execution_count": 28,
     "metadata": {},
     "output_type": "execute_result"
    }
   ],
   "source": []
  },
  {
   "cell_type": "code",
   "execution_count": null,
   "metadata": {
    "collapsed": true
   },
   "outputs": [],
   "source": []
  }
 ],
 "metadata": {
  "kernelspec": {
   "display_name": "Python 3",
   "language": "python",
   "name": "python3"
  },
  "language_info": {
   "codemirror_mode": {
    "name": "ipython",
    "version": 3
   },
   "file_extension": ".py",
   "mimetype": "text/x-python",
   "name": "python",
   "nbconvert_exporter": "python",
   "pygments_lexer": "ipython3",
   "version": "3.6.3"
  }
 },
 "nbformat": 4,
 "nbformat_minor": 4
}
