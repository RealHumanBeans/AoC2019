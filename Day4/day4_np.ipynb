{
  "nbformat": 4,
  "nbformat_minor": 0,
  "metadata": {
    "colab": {
      "name": "day4_np.ipynb",
      "provenance": [],
      "collapsed_sections": []
    },
    "kernelspec": {
      "name": "python3",
      "display_name": "Python 3"
    }
  },
  "cells": [
    {
      "cell_type": "markdown",
      "metadata": {
        "id": "p-tcdZD6TAQX"
      },
      "source": [
        "# [Advent of Code 2019 Day 3](https://adventofcode.com/2019/day/4#part2)\n",
        "\n",
        "--- Day 4: Secure Container ---\n",
        "You arrive at the Venus fuel depot only to discover it's protected by a password. The Elves had written the password on a sticky note, but someone threw it out.\n",
        "\n",
        "However, they do remember a few key facts about the password:\n",
        "\n",
        "  - It is a six-digit number.\n",
        "  - The value is within the range given in your puzzle input.\n",
        "  - Two adjacent digits are the same (like 22 in 122345).\n",
        "  - Going from left to right, the digits never decrease; they only ever increase or stay the same (like 111123 or 135679).\n",
        "\n",
        "Other than the range rule, the following are true:\n",
        "\n",
        "  - 111111 meets these criteria (double 11, never decreases).\n",
        "  - 223450 does not meet these criteria (decreasing pair of digits 50).\n",
        "  - 123789 does not meet these criteria (no double).\n",
        "\n",
        "How many different passwords within the range given in your puzzle input meet these criteria?"
      ]
    },
    {
      "cell_type": "code",
      "metadata": {
        "id": "q4n56i76xdGC",
        "outputId": "34c9b60d-21a2-454b-dbe0-8d27397e5177",
        "colab": {
          "base_uri": "https://localhost:8080/",
          "height": 34
        }
      },
      "source": [
        "# Load the Drive helper and mount\n",
        "from google.colab import drive\n",
        "\n",
        "# This will prompt for authorization.\n",
        "drive.mount('/content/drive')"
      ],
      "execution_count": 22,
      "outputs": [
        {
          "output_type": "stream",
          "text": [
            "Mounted at /content/drive\n"
          ],
          "name": "stdout"
        }
      ]
    },
    {
      "cell_type": "code",
      "metadata": {
        "id": "E68ExlClxm0z",
        "outputId": "e1002db8-3de2-4459-df20-39837247d953",
        "colab": {
          "base_uri": "https://localhost:8080/",
          "height": 34
        }
      },
      "source": [
        "# After executing the cell above, Drive\n",
        "# files will be present in \"/content/drive/My Drive\".\n",
        "!ls \"/content/drive/My Drive/Colab Notebooks/AoC2019/day3\""
      ],
      "execution_count": 23,
      "outputs": [
        {
          "output_type": "stream",
          "text": [
            "day3_np.ipynb  input_3np.txt\n"
          ],
          "name": "stdout"
        }
      ]
    },
    {
      "cell_type": "code",
      "metadata": {
        "id": "6uzFL9sIxpfQ",
        "outputId": "3acd6cb0-6719-40fb-e0a7-43d38f63ec49",
        "colab": {
          "base_uri": "https://localhost:8080/",
          "height": 51
        }
      },
      "source": [
        "# Read input file\n",
        "f = open('/content/drive/My Drive/Colab Notebooks/AoC2019/day4/input_4np.txt', 'r+')\n",
        "input_range = f.read().split('-')\n",
        "f.close()"
      ],
      "execution_count": 27,
      "outputs": [
        {
          "output_type": "stream",
          "text": [
            "206938\n",
            "679128\n"
          ],
          "name": "stdout"
        }
      ]
    },
    {
      "cell_type": "code",
      "metadata": {
        "id": "0HdUBuSrWIQr",
        "outputId": "487f5f48-c19d-4116-bfbc-85484e5810d2",
        "colab": {
          "base_uri": "https://localhost:8080/",
          "height": 34
        }
      },
      "source": [
        "#Find number of potential passwords\n",
        "range_min = int(input_range[0])\n",
        "range_max = int(input_range[1])\n",
        "N_digits = len(input_range[0])\n",
        "\n",
        "passwords = []\n",
        "for i in range(range_min, range_max+1): \n",
        "  password = str(i)\n",
        "  if len(password) == N_digits:\n",
        "    double_digits = False \n",
        "    increasing_digits = True\n",
        "    for j in range(0,N_digits-1):\n",
        "      #Hexcode logic\n",
        "      if password[j] == password[j+1]: double_digits = True\n",
        "      if password[j] > password[j+1]: increasing_digits = False\n",
        "    if double_digits & increasing_digits:\n",
        "      passwords.append(i)\n",
        "print('Number of potential passwords:', len(passwords))"
      ],
      "execution_count": 32,
      "outputs": [
        {
          "output_type": "stream",
          "text": [
            "Number of potential passwords: 1653\n"
          ],
          "name": "stdout"
        }
      ]
    },
    {
      "cell_type": "markdown",
      "metadata": {
        "id": "8U4UIQRPS_KY"
      },
      "source": [
        "--- Part Two ---\n",
        "\n",
        "An Elf just remembered one more important detail: the two adjacent matching digits are not part of a larger group of matching digits.\n",
        "\n",
        "Given this additional criterion, but still ignoring the range rule, the following are now true:\n",
        "\n",
        "112233 meets these criteria because the digits never decrease and all repeated digits are exactly two digits long.\n",
        "123444 no longer meets the criteria (the repeated 44 is part of a larger group of 444).\n",
        "111122 meets the criteria (even though 1 is repeated more than twice, it still contains a double 22).\n",
        "How many different passwords within the range given in your puzzle input meet all of the criteria?"
      ]
    },
    {
      "cell_type": "code",
      "metadata": {
        "id": "gqc99xX-Rq4I",
        "outputId": "ad09202e-5b3f-4bb0-ca38-858bd5d940b1",
        "colab": {
          "base_uri": "https://localhost:8080/",
          "height": 34
        }
      },
      "source": [
        "#Narrow the password list with the new rule \n",
        "from collections import Counter\n",
        "\n",
        "# check for a solo twosome \n",
        "\n",
        "passwords_refine = []\n",
        "for i in passwords:\n",
        "  password = str(i)\n",
        "  count = list(Counter(password).items())\n",
        "  \n",
        "  double_digit = False\n",
        "  for i in count: \n",
        "    if i[1] == 2: double_digit = True  \n",
        "  if double_digit: passwords_refine.append(i)  \n",
        "print('Number of potential passwords:', len(passwords_refine))  #972 is too low"
      ],
      "execution_count": 31,
      "outputs": [
        {
          "output_type": "stream",
          "text": [
            "Number of potential passwords: 1133\n"
          ],
          "name": "stdout"
        }
      ]
    }
  ]
}