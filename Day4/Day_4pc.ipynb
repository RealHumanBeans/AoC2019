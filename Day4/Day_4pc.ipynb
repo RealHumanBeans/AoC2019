{
 "cells": [
  {
   "cell_type": "code",
   "execution_count": 1,
   "metadata": {},
   "outputs": [
    {
     "name": "stdout",
     "output_type": "stream",
     "text": [
      "Number of possibilities = 546411\n"
     ]
    }
   ],
   "source": [
    "import numpy as np\n",
    "import pandas as pd\n",
    "\n",
    "d4 = [278384,824795]\n",
    "print('Number of possibilities = %i' %(d4[1]-d4[0]))\n",
    "\n",
    "# Make a tree where each node level is a decimal place in the sequence\n",
    "# Start from the left-most digit as root\n",
    "# Add digits to the right as child, if child value >= root value"
   ]
  },
  {
   "cell_type": "code",
   "execution_count": 2,
   "metadata": {},
   "outputs": [],
   "source": [
    "class Tree:\n",
    "    def __init__(self, cargo, level=0):\n",
    "        self.cargo = cargo\n",
    "        self.level = level\n",
    "\n",
    "    def __str__(self):\n",
    "        return str(self.cargo)\n",
    "    \n",
    "    # Create children nodes\n",
    "    def newNodes(self, nodes):\n",
    "        self.nodes = [Tree(ii,self.level+1) for ii in nodes]\n",
    "    \n",
    "    # Create new nodes based on allowable next digit\n",
    "    def recurNodes(self, level):\n",
    "        # Create new nodes only if node has no children\n",
    "        try:\n",
    "            for node in self.nodes:\n",
    "                node.recurNodes(level)\n",
    "        except AttributeError:\n",
    "            if self.level < level:\n",
    "                nodes = list(range(self.cargo, 10))\n",
    "                self.newNodes(nodes)\n",
    "                for node in self.nodes:\n",
    "                    node.recurNodes(level)\n",
    "            \n",
    "    # Recursively traverse tree to get stored passwords\n",
    "    def treeNumList(self):\n",
    "        prefix = str(self)\n",
    "        # Combine password digits only if node has children\n",
    "        try:\n",
    "            numList = []\n",
    "            for node in self.nodes:\n",
    "                suffix = node.treeNumList()\n",
    "                for suffList  in suffix:\n",
    "                    numList += [prefix+suffList]\n",
    "        except AttributeError:\n",
    "            numList = prefix\n",
    "        return numList   "
   ]
  },
  {
   "cell_type": "code",
   "execution_count": 3,
   "metadata": {},
   "outputs": [
    {
     "name": "stdout",
     "output_type": "stream",
     "text": [
      "Number of passwords = 921\n"
     ]
    }
   ],
   "source": [
    "# Challenge 4.1\n",
    "\n",
    "# Create tree of possible sequences of increasing order\n",
    "tree = Tree(0)\n",
    "tree.newNodes(list(range(2,8)))\n",
    "tree.nodes[0].newNodes(list(range(7,10)))\n",
    "tree.nodes[0].nodes[0].newNodes(list(range(8,10)))\n",
    "tree.recurNodes(6)\n",
    "\n",
    "# Read sequences from tree\n",
    "passwords = tree.treeNumList()\n",
    "\n",
    "# Filter out passwords without adjacent repeated digits\n",
    "delSeq = []\n",
    "for seq in passwords:\n",
    "    diff = str(int(seq[2:])-int(seq[1:-1]))\n",
    "    if '0' not in diff and len(diff) == 5:\n",
    "        delSeq += [seq]\n",
    "for seq in delSeq:\n",
    "    passwords.remove(seq)\n",
    "\n",
    "print('Number of passwords = %i' %len(passwords))"
   ]
  },
  {
   "cell_type": "code",
   "execution_count": 4,
   "metadata": {},
   "outputs": [
    {
     "name": "stdout",
     "output_type": "stream",
     "text": [
      "Number of passwords = 603\n"
     ]
    }
   ],
   "source": [
    "# Challenge 4.2\n",
    "\n",
    "# Filter out passwords without too many repeated digits\n",
    "passwords2 = []\n",
    "for seq in passwords:\n",
    "    diff = '%05d' %(int(seq[2:])-int(seq[1:-1]))\n",
    "    if any(((j == '0') and (i != '0' and k != '0'))\n",
    "           for i,j,k in zip(diff, diff[1:], diff[2:])):\n",
    "        passwords2 += [seq]\n",
    "    elif diff[0] == '0' and diff[1] != '0':\n",
    "        passwords2 += [seq]\n",
    "    elif diff[-1] == '0' and diff[-2] != '0':\n",
    "        passwords2 += [seq]\n",
    "\n",
    "print('Number of passwords = %i' %len(passwords2))"
   ]
  },
  {
   "cell_type": "code",
   "execution_count": 5,
   "metadata": {},
   "outputs": [
    {
     "name": "stdout",
     "output_type": "stream",
     "text": [
      "Part 1 = 921\n",
      "Part 2 = 603\n"
     ]
    }
   ],
   "source": [
    "# Brute force method\n",
    "\n",
    "# Part 1\n",
    "numList = []\n",
    "for num in range(d4[0],d4[1]+1):\n",
    "    if all(i <= j for i, j in zip(str(num), str(num)[1:])):\n",
    "        if not all(i < j for i, j in zip(str(num), str(num)[1:])):\n",
    "            numList += [num]\n",
    "print('Part 1 = %i' %len(numList))\n",
    "\n",
    "# Part 2\n",
    "numList2 = []\n",
    "for num in numList:\n",
    "    diff = [int(j)-int(i) for i, j in zip(str(num), str(num)[1:])]\n",
    "    if any(((j == 0) and (i !=0 and k != 0)) for i,j,k in zip(diff, diff[1:], diff[2:])):\n",
    "        numList2 += [num]\n",
    "    elif diff[0] == 0 and diff[1] != 0:\n",
    "        numList2 += [num]\n",
    "    elif diff[-1] == 0 and diff[-2] != 0:\n",
    "        numList2 += [num]\n",
    "print('Part 2 = %i' %len(numList2))"
   ]
  },
  {
   "cell_type": "code",
   "execution_count": null,
   "metadata": {},
   "outputs": [],
   "source": []
  }
 ],
 "metadata": {
  "kernelspec": {
   "display_name": "Python 3",
   "language": "python",
   "name": "python3"
  },
  "language_info": {
   "codemirror_mode": {
    "name": "ipython",
    "version": 3
   },
   "file_extension": ".py",
   "mimetype": "text/x-python",
   "name": "python",
   "nbconvert_exporter": "python",
   "pygments_lexer": "ipython3",
   "version": "3.7.6"
  }
 },
 "nbformat": 4,
 "nbformat_minor": 4
}
