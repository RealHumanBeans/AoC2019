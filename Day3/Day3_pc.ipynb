{
 "cells": [
  {
   "cell_type": "code",
   "execution_count": 1,
   "metadata": {
    "collapsed": true
   },
   "outputs": [],
   "source": [
    "# Advent of Code 2019\n",
    "import numpy as np\n",
    "import pandas as pd\n",
    "\n",
    "# Input import\n",
    "i = 'pc' # initial\n",
    "d3 = pd.read_csv('input_3%s.txt' %i,header=None)\n",
    "\n",
    "# # Test input\n",
    "# d3 = pd.DataFrame([['R75','D30','R83','U83','L12','D49','R71','U7','L72'],\n",
    "#       ['U62','R66','U55','R34','D71','R55','D58','R83']])"
   ]
  },
  {
   "cell_type": "code",
   "execution_count": 2,
   "metadata": {
    "collapsed": true
   },
   "outputs": [],
   "source": [
    "# Coords of wire locations based on path\n",
    "def coords(start,step):\n",
    "    if step != None:\n",
    "        x,y = start\n",
    "        d,n = step[0],int(step[1:])\n",
    "\n",
    "        if d == 'U':\n",
    "            path = [list(np.full((1,n),x)[0]),list(range(y+1,y+n+1))]\n",
    "        elif d == 'D':\n",
    "            path = [list(np.full((1,n),x)[0]),list(range(y-1,y-n-2,-1))]\n",
    "            \n",
    "        elif d == 'R':\n",
    "            path = [list(range(x+1,x+n+1)),list(np.full((1,n),y)[0])]\n",
    "        elif d == 'L':\n",
    "            path = [list(range(x-1,x-n-2,-1)),list(np.full((1,n),y)[0])]\n",
    "        return list(zip(*path))\n",
    "    else:\n",
    "        return (0,0)"
   ]
  },
  {
   "cell_type": "code",
   "execution_count": 3,
   "metadata": {},
   "outputs": [
    {
     "name": "stdout",
     "output_type": "stream",
     "text": [
      "Min distance = 1431\n"
     ]
    }
   ],
   "source": [
    "# Challenge 3.1\n",
    "wire1 = [(0,0)]\n",
    "wire2 = [(0,0)]\n",
    "\n",
    "# Save points that each wire visited\n",
    "for ii in d3:\n",
    "    wire1 += coords(wire1[-1],d3.loc[0,ii])\n",
    "    wire2 += coords(wire2[-1],d3.loc[1,ii])\n",
    "    \n",
    "# Crossing points (exclude (0,0))\n",
    "cross = set(wire1[1:]).intersection(set(wire2[1:]))\n",
    "cross_pd = pd.DataFrame(cross)\n",
    "cross_pd['dist'] = abs(cross_pd[0])+abs(cross_pd[1])\n",
    "\n",
    "print('Min distance = %i' %cross_pd['dist'].min())"
   ]
  },
  {
   "cell_type": "code",
   "execution_count": 4,
   "metadata": {},
   "outputs": [
    {
     "name": "stdout",
     "output_type": "stream",
     "text": [
      "Min lag = 48012\n"
     ]
    }
   ],
   "source": [
    "# Challenge 3.2\n",
    "clist = list(cross)\n",
    "cross1 = pd.Series(wire1)\n",
    "cross2 = pd.Series(wire2)\n",
    "\n",
    "# Calculate \"lag\" for each intersection\n",
    "lag = []\n",
    "for ii in cross_pd.index:\n",
    "    lag += [cross1[cross1==clist[ii]].index[0] + \n",
    "                  cross2[cross2==clist[ii]].index[0]]\n",
    "cross_pd['lag'] = lag\n",
    "print('Min lag = %i' %cross_pd['lag'].min())"
   ]
  },
  {
   "cell_type": "code",
   "execution_count": null,
   "metadata": {
    "collapsed": true
   },
   "outputs": [],
   "source": []
  }
 ],
 "metadata": {
  "kernelspec": {
   "display_name": "Python 3",
   "language": "python",
   "name": "python3"
  },
  "language_info": {
   "codemirror_mode": {
    "name": "ipython",
    "version": 3
   },
   "file_extension": ".py",
   "mimetype": "text/x-python",
   "name": "python",
   "nbconvert_exporter": "python",
   "pygments_lexer": "ipython3",
   "version": "3.6.3"
  }
 },
 "nbformat": 4,
 "nbformat_minor": 2
}
