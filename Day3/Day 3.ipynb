{
 "cells": [
  {
   "cell_type": "code",
   "execution_count": 1,
   "metadata": {},
   "outputs": [],
   "source": [
    "# Advent of Code 2019\n",
    "import numpy as np\n",
    "import pandas as pd\n",
    "\n",
    "# Input import\n",
    "i = 'pc' # initial\n",
    "d3 = pd.read_csv('input_3%s.txt' %i,header=None)"
   ]
  },
  {
   "cell_type": "code",
   "execution_count": 2,
   "metadata": {},
   "outputs": [
    {
     "data": {
      "text/html": [
       "<div>\n",
       "<style scoped>\n",
       "    .dataframe tbody tr th:only-of-type {\n",
       "        vertical-align: middle;\n",
       "    }\n",
       "\n",
       "    .dataframe tbody tr th {\n",
       "        vertical-align: top;\n",
       "    }\n",
       "\n",
       "    .dataframe thead th {\n",
       "        text-align: right;\n",
       "    }\n",
       "</style>\n",
       "<table border=\"1\" class=\"dataframe\">\n",
       "  <thead>\n",
       "    <tr style=\"text-align: right;\">\n",
       "      <th></th>\n",
       "      <th>0</th>\n",
       "      <th>1</th>\n",
       "      <th>2</th>\n",
       "      <th>3</th>\n",
       "      <th>4</th>\n",
       "      <th>5</th>\n",
       "      <th>6</th>\n",
       "      <th>7</th>\n",
       "      <th>8</th>\n",
       "      <th>9</th>\n",
       "      <th>...</th>\n",
       "      <th>291</th>\n",
       "      <th>292</th>\n",
       "      <th>293</th>\n",
       "      <th>294</th>\n",
       "      <th>295</th>\n",
       "      <th>296</th>\n",
       "      <th>297</th>\n",
       "      <th>298</th>\n",
       "      <th>299</th>\n",
       "      <th>300</th>\n",
       "    </tr>\n",
       "  </thead>\n",
       "  <tbody>\n",
       "    <tr>\n",
       "      <th>0</th>\n",
       "      <td>R1006</td>\n",
       "      <td>U867</td>\n",
       "      <td>R355</td>\n",
       "      <td>D335</td>\n",
       "      <td>L332</td>\n",
       "      <td>U787</td>\n",
       "      <td>L938</td>\n",
       "      <td>U987</td>\n",
       "      <td>L234</td>\n",
       "      <td>U940</td>\n",
       "      <td>...</td>\n",
       "      <td>D454</td>\n",
       "      <td>R279</td>\n",
       "      <td>D642</td>\n",
       "      <td>L773</td>\n",
       "      <td>D653</td>\n",
       "      <td>R127</td>\n",
       "      <td>D199</td>\n",
       "      <td>R119</td>\n",
       "      <td>U509</td>\n",
       "      <td>L530</td>\n",
       "    </tr>\n",
       "    <tr>\n",
       "      <th>1</th>\n",
       "      <td>L1003</td>\n",
       "      <td>D933</td>\n",
       "      <td>L419</td>\n",
       "      <td>D202</td>\n",
       "      <td>L972</td>\n",
       "      <td>U621</td>\n",
       "      <td>L211</td>\n",
       "      <td>U729</td>\n",
       "      <td>R799</td>\n",
       "      <td>U680</td>\n",
       "      <td>...</td>\n",
       "      <td>D871</td>\n",
       "      <td>L765</td>\n",
       "      <td>D803</td>\n",
       "      <td>R630</td>\n",
       "      <td>U108</td>\n",
       "      <td>L79</td>\n",
       "      <td>U625</td>\n",
       "      <td>R77</td>\n",
       "      <td>U176</td>\n",
       "      <td>R911</td>\n",
       "    </tr>\n",
       "  </tbody>\n",
       "</table>\n",
       "<p>2 rows × 301 columns</p>\n",
       "</div>"
      ],
      "text/plain": [
       "     0     1     2     3     4     5     6     7     8     9    ...   291  \\\n",
       "0  R1006  U867  R355  D335  L332  U787  L938  U987  L234  U940  ...  D454   \n",
       "1  L1003  D933  L419  D202  L972  U621  L211  U729  R799  U680  ...  D871   \n",
       "\n",
       "    292   293   294   295   296   297   298   299   300  \n",
       "0  R279  D642  L773  D653  R127  D199  R119  U509  L530  \n",
       "1  L765  D803  R630  U108   L79  U625   R77  U176  R911  \n",
       "\n",
       "[2 rows x 301 columns]"
      ]
     },
     "execution_count": 2,
     "metadata": {},
     "output_type": "execute_result"
    }
   ],
   "source": [
    "# Challenge 3.1\n",
    "d3"
   ]
  },
  {
   "cell_type": "code",
   "execution_count": 3,
   "metadata": {},
   "outputs": [],
   "source": [
    "# Challenge 3.2\n"
   ]
  },
  {
   "cell_type": "code",
   "execution_count": null,
   "metadata": {},
   "outputs": [],
   "source": []
  }
 ],
 "metadata": {
  "kernelspec": {
   "display_name": "Python 3",
   "language": "python",
   "name": "python3"
  },
  "language_info": {
   "codemirror_mode": {
    "name": "ipython",
    "version": 3
   },
   "file_extension": ".py",
   "mimetype": "text/x-python",
   "name": "python",
   "nbconvert_exporter": "python",
   "pygments_lexer": "ipython3",
   "version": "3.7.6"
  }
 },
 "nbformat": 4,
 "nbformat_minor": 2
}
