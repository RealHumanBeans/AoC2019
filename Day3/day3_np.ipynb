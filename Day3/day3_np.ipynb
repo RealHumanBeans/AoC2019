{
  "nbformat": 4,
  "nbformat_minor": 0,
  "metadata": {
    "colab": {
      "name": "day3_np.ipynb",
      "provenance": [],
      "collapsed_sections": []
    },
    "kernelspec": {
      "name": "python3",
      "display_name": "Python 3"
    }
  },
  "cells": [
    {
      "cell_type": "markdown",
      "metadata": {
        "id": "p-tcdZD6TAQX"
      },
      "source": [
        "# [Advent of Code 2019 Day 3](https://adventofcode.com/2019/day/3#part2)\n",
        "\n",
        "--- Day 3: Crossed Wires ---\n",
        "\n",
        "--- Part 1 ---\n",
        "\n",
        "The gravity assist was successful, and you're well on your way to the Venus refuelling station. During the rush back on Earth, the fuel management system wasn't completely installed, so that's next on the priority list.\n",
        "\n",
        "Opening the front panel reveals a jumble of wires. Specifically, two wires are connected to a central port and extend outward on a grid. You trace the path each wire takes as it leaves the central port, one wire per line of text (your puzzle input).\n",
        "\n",
        "The wires twist and turn, but the two wires occasionally cross paths. To fix the circuit, you need to find the intersection point closest to the central port. Because the wires are on a grid, use the Manhattan distance for this measurement. While the wires do technically cross right at the central port where they both start, this point does not count, nor does a wire count as crossing with itself.\n",
        "\n",
        "For example, if the first wire's path is R8,U5,L5,D3, then starting from the central port (o), it goes right 8, up 5, left 5, and finally down 3:\n",
        "\n",
        "```\n",
        "...........\n",
        "...........\n",
        "...........\n",
        "....+----+.\n",
        "....|....|.\n",
        "....|....|.\n",
        "....|....|.\n",
        ".........|.\n",
        ".o-------+.\n",
        "...........\n",
        "```\n",
        "\n",
        "Then, if the second wire's path is U7,R6,D4,L4, it goes up 7, right 6, down 4, and left 4:\n",
        "\n",
        "```\n",
        "...........\n",
        ".+-----+...\n",
        ".|.....|...\n",
        ".|..+--X-+.\n",
        ".|..|..|.|.\n",
        ".|.-X--+.|.\n",
        ".|..|....|.\n",
        ".|.......|.\n",
        ".o-------+.\n",
        "...........\n",
        "```\n",
        "\n",
        "These wires cross at two locations (marked X), but the lower-left one is closer to the central port: its distance is 3 + 3 = 6.\n",
        "\n",
        "Here are a few more examples:\n",
        "\n",
        "  - R75,D30,R83,U83,L12,D49,R71,U7,L72\n",
        "\n",
        "    U62,R66,U55,R34,D71,R55,D58,R83 = distance 159\n",
        "\n",
        "  - R98,U47,R26,D63,R33,U87,L62,D20,R33,U53,R51\n",
        "  \n",
        "    U98,R91,D20,R16,D67,R40,U7,R15,U6,R7 = distance 135\n",
        "    \n",
        "What is the Manhattan distance from the central port to the closest intersection?"
      ]
    },
    {
      "cell_type": "code",
      "metadata": {
        "id": "bA-g4BVcwnix",
        "outputId": "80edf1ca-7feb-4354-fccc-ab5215e974d5",
        "colab": {
          "base_uri": "https://localhost:8080/",
          "height": 54
        }
      },
      "source": [
        "# Load the Drive helper and mount\n",
        "from google.colab import drive\n",
        "\n",
        "# This will prompt for authorization.\n",
        "drive.mount('/content/drive')"
      ],
      "execution_count": 43,
      "outputs": [
        {
          "output_type": "stream",
          "text": [
            "Drive already mounted at /content/drive; to attempt to forcibly remount, call drive.mount(\"/content/drive\", force_remount=True).\n"
          ],
          "name": "stdout"
        }
      ]
    },
    {
      "cell_type": "code",
      "metadata": {
        "id": "qCkf22OiV72a",
        "outputId": "4bc153dc-6ad9-46eb-d926-6fd34f100ae3",
        "colab": {
          "base_uri": "https://localhost:8080/",
          "height": 34
        }
      },
      "source": [
        "# After executing the cell above, Drive\n",
        "# files will be present in \"/content/drive/My Drive\".\n",
        "!ls \"/content/drive/My Drive/Colab Notebooks/AoC2019/day3\""
      ],
      "execution_count": 45,
      "outputs": [
        {
          "output_type": "stream",
          "text": [
            "day3_np.ipynb  input2.txt  input_3np.txt  input_3pc.txt  input.txt\n"
          ],
          "name": "stdout"
        }
      ]
    },
    {
      "cell_type": "code",
      "metadata": {
        "id": "qfhQNh0hWEtk"
      },
      "source": [
        "# Read input file\n",
        "f = open('/content/drive/My Drive/Colab Notebooks/AoC2019/day3/input_3np.txt', 'r+')\n",
        "wires = f.readlines()\n",
        "f.close()\n",
        "\n",
        "# Convert to matrix \n",
        "N_wires = len(wires)\n",
        "for i in range(0, N_wires):\n",
        "  wires[i] = wires[i].split(\",\")"
      ],
      "execution_count": 64,
      "outputs": []
    },
    {
      "cell_type": "code",
      "metadata": {
        "id": "0HdUBuSrWIQr",
        "outputId": "af8421c3-3211-436f-a5e2-a070e42f388a",
        "colab": {
          "base_uri": "https://localhost:8080/",
          "height": 34
        }
      },
      "source": [
        "#import matplotlib.pyplot as plt\n",
        "#plot_colors = [\"red\", \"blue\"]\n",
        "\n",
        "# Trace the wires \n",
        "origin = (0,0)\n",
        "wire_paths = [[origin for i in range(1)] for j in range(N_wires)] \n",
        "for i in range(0, N_wires):\n",
        "  for j in range(0, len(wires[i])):\n",
        "    direction = wires[i][j][0]\n",
        "    distance = int(wires[i][j][1:])\n",
        "    starting_posn = wire_paths[i][-1]\n",
        "    for k in range (1, distance+1):\n",
        "      ending_posn = {\n",
        "        'R': lambda distance: (starting_posn[0] + k, starting_posn[1]),\n",
        "        'L': lambda distance: (starting_posn[0] - k, starting_posn[1]),\n",
        "        'U': lambda distance: (starting_posn[0], starting_posn[1] + k),\n",
        "        'D': lambda distance: (starting_posn[0], starting_posn[1] - k)\n",
        "      }[direction](k)\n",
        "      wire_paths[i].append(ending_posn)\n",
        "      #plt.plot([wire_paths[i][-1][0], wire_paths[i][-2][0]], \n",
        "      #        [wire_paths[i][-1][1], wire_paths[i][-2][1]],\n",
        "      #        color=plot_colors[i])\n",
        "intersect_posn = set(wire_paths[1]).intersection(set(wire_paths[0]))\n",
        "intersect_posn.remove(origin)\n",
        "#plt.show()\n",
        "\n",
        "# Manhattan distances\n",
        "manhattan_dist = []\n",
        "for i in intersect_posn:\n",
        "  manhattan_dist.append(abs(i[0]) + abs(i[1])) \n",
        "print('Min Manhattan distance:', min(manhattan_dist)) "
      ],
      "execution_count": 65,
      "outputs": [
        {
          "output_type": "stream",
          "text": [
            "Min Manhattan distance: 1211\n"
          ],
          "name": "stdout"
        }
      ]
    },
    {
      "cell_type": "markdown",
      "metadata": {
        "id": "8U4UIQRPS_KY"
      },
      "source": [
        "--- Part 2 ---\n",
        "\n",
        "It turns out that this circuit is very timing-sensitive; you actually need to minimize the signal delay.\n",
        "\n",
        "To do this, calculate the number of steps each wire takes to reach each intersection; choose the intersection where the sum of both wires' steps is lowest. If a wire visits a position on the grid multiple times, use the steps value from the first time it visits that position when calculating the total value of a specific intersection.\n",
        "\n",
        "The number of steps a wire takes is the total number of grid squares the wire has entered to get to that location, including the intersection being considered. Again consider the example from above:\n",
        "\n",
        "```\n",
        "...........\n",
        ".+-----+...\n",
        ".|.....|...\n",
        ".|..+--X-+.\n",
        ".|..|..|.|.\n",
        ".|.-X--+.|.\n",
        ".|..|....|.\n",
        ".|.......|.\n",
        ".o-------+.\n",
        "...........\n",
        "```\n",
        "\n",
        "In the above example, the intersection closest to the central port is reached after 8+5+5+2 = 20 steps by the first wire and 7+6+4+3 = 20 steps by the second wire for a total of 20+20 = 40 steps.\n",
        "\n",
        "However, the top-right intersection is better: the first wire takes only 8+5+2 = 15 and the second wire takes only 7+6+2 = 15, a total of 15+15 = 30 steps.\n",
        "\n",
        "Here are the best steps for the extra examples from above:\n",
        "\n",
        "  - R75,D30,R83,U83,L12,D49,R71,U7,L72\n",
        "\n",
        "    U62,R66,U55,R34,D71,R55,D58,R83 = 610 steps\n",
        "\n",
        "  - R98,U47,R26,D63,R33,U87,L62,D20,R33,U53,R51\n",
        "  \n",
        "    U98,R91,D20,R16,D67,R40,U7,R15,U6,R7 = 410 steps\n",
        "\n",
        "What is the fewest combined steps the wires must take to reach an intersection?"
      ]
    },
    {
      "cell_type": "code",
      "metadata": {
        "id": "gqc99xX-Rq4I",
        "outputId": "155deee0-e8dd-4c4d-f551-32ab8dbb97ad",
        "colab": {
          "base_uri": "https://localhost:8080/",
          "height": 34
        }
      },
      "source": [
        "#Calculate the fewest combined steps the wire must take to reach an intersection \n",
        "steps = []\n",
        "for i in intersect_posn:\n",
        "  steps.append(wire_paths[0].index(i) + wire_paths[1].index(i))\n",
        "print('Min steps:', min(steps)) "
      ],
      "execution_count": 66,
      "outputs": [
        {
          "output_type": "stream",
          "text": [
            "Min steps: 101386\n"
          ],
          "name": "stdout"
        }
      ]
    }
  ]
}