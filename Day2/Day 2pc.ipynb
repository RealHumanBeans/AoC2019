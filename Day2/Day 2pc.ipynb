{
 "cells": [
  {
   "cell_type": "code",
   "execution_count": 1,
   "metadata": {
    "collapsed": true
   },
   "outputs": [],
   "source": [
    "# Advent of Code 2019\n",
    "import numpy as np\n",
    "import pandas as pd\n",
    "\n",
    "# Input import\n",
    "i = 'pc' # initial\n",
    "d2 = pd.read_csv('input_2%s.txt' %i,header=None).loc[0,:]\n",
    "\n",
    "# Test sequence\n",
    "# d = [1,9,10,3,2,3,11,0,99,30,40,50]"
   ]
  },
  {
   "cell_type": "code",
   "execution_count": 2,
   "metadata": {
    "collapsed": true
   },
   "outputs": [],
   "source": [
    "# Opcode functions\n",
    "def one(pos,data):\n",
    "    data[data[pos+3]] = data[data[pos+1]] + data[data[pos+2]]\n",
    "    return data\n",
    "def two(pos,data):\n",
    "    data[data[pos+3]] = data[data[pos+1]] * data[data[pos+2]]\n",
    "    return data"
   ]
  },
  {
   "cell_type": "code",
   "execution_count": 3,
   "metadata": {},
   "outputs": [
    {
     "name": "stdout",
     "output_type": "stream",
     "text": [
      "Val at pos 0 = 5098658\n"
     ]
    }
   ],
   "source": [
    "# Challenge 2.1\n",
    "d = d2.copy()\n",
    "\n",
    "# 1202 program state\n",
    "d[1] = 12\n",
    "d[2] = 2\n",
    "\n",
    "pos = 0\n",
    "val = 0\n",
    "while val != 99:\n",
    "    val = d.loc[pos]\n",
    "    if val == 1:\n",
    "        d = one(pos,d)\n",
    "    elif val == 2:\n",
    "        d = two(pos,d)\n",
    "    pos += 4\n",
    "\n",
    "print('Val at pos 0 = %i' %d[0])"
   ]
  },
  {
   "cell_type": "code",
   "execution_count": 4,
   "metadata": {},
   "outputs": [
    {
     "name": "stdout",
     "output_type": "stream",
     "text": [
      "Noun = 50, verb = 64\n",
      "100 * noun * verb = 5064\n"
     ]
    }
   ],
   "source": [
    "# Challenge 2.2\n",
    "\n",
    "# Program state\n",
    "d = d2.copy()\n",
    "noun = -1\n",
    "verb = 0\n",
    "\n",
    "while d[0] != 19690720 and verb < 100:\n",
    "    \n",
    "    # Update inputs\n",
    "    if noun == 99:\n",
    "        noun = 0\n",
    "        verb += 1\n",
    "    else:\n",
    "        noun += 1\n",
    "        \n",
    "    # Reset program state\n",
    "    d = d2.copy()\n",
    "    d[1] = noun\n",
    "    d[2] = verb\n",
    "    \n",
    "    pos = 0\n",
    "    val = 0\n",
    "    while val != 99:\n",
    "        val = d.loc[pos]\n",
    "        if val == 1:\n",
    "            d = one(pos,d)\n",
    "        elif val == 2:\n",
    "            d = two(pos,d)\n",
    "        pos += 4\n",
    "    \n",
    "print('Noun = %i, verb = %i' %(noun,verb))\n",
    "print('100 * noun * verb = %i' %(100*noun + verb))"
   ]
  },
  {
   "cell_type": "code",
   "execution_count": null,
   "metadata": {
    "collapsed": true
   },
   "outputs": [],
   "source": []
  }
 ],
 "metadata": {
  "kernelspec": {
   "display_name": "Python 3",
   "language": "python",
   "name": "python3"
  },
  "language_info": {
   "codemirror_mode": {
    "name": "ipython",
    "version": 3
   },
   "file_extension": ".py",
   "mimetype": "text/x-python",
   "name": "python",
   "nbconvert_exporter": "python",
   "pygments_lexer": "ipython3",
   "version": "3.6.3"
  }
 },
 "nbformat": 4,
 "nbformat_minor": 2
}
