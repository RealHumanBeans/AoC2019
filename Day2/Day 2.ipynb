{
 "cells": [
  {
   "cell_type": "code",
   "execution_count": 1,
   "metadata": {},
   "outputs": [],
   "source": [
    "# Advent of Code 2019\n",
    "import numpy as np\n",
    "import pandas as pd\n",
    "\n",
    "# Input import\n",
    "i = 'pc' # initial\n",
    "d2 = pd.read_csv('input_2%s.txt' %i,header=None).loc[0,:]\n",
    "\n",
    "# Restore 1202 program state\n",
    "d2[1] = 12\n",
    "d2[2] = 2\n",
    "\n",
    "# Test sequence\n",
    "# d = [1,9,10,3,2,3,11,0,99,30,40,50]"
   ]
  },
  {
   "cell_type": "code",
   "execution_count": 2,
   "metadata": {},
   "outputs": [],
   "source": [
    "# Opcode functions\n",
    "def one(pos,data):\n",
    "    data[data[pos+3]] = data[data[pos+1]] + data[data[pos+2]]\n",
    "    return data\n",
    "def two(pos,data):\n",
    "    data[data[pos+3]] = data[data[pos+1]] * data[data[pos+2]]\n",
    "    return data"
   ]
  },
  {
   "cell_type": "code",
   "execution_count": 3,
   "metadata": {},
   "outputs": [
    {
     "name": "stdout",
     "output_type": "stream",
     "text": [
      "Val at pos 0 = 5098658\n"
     ]
    }
   ],
   "source": [
    "# Challenge 2.1\n",
    "pos = 0\n",
    "val = 0\n",
    "while val != 99:\n",
    "    val = d2.loc[pos]\n",
    "    if val == 1:\n",
    "        d2 = one(pos,d2)\n",
    "    elif val == 2:\n",
    "        d2 = two(pos,d2)\n",
    "    pos += 4\n",
    "\n",
    "print('Val at pos 0 = %i' %d2[0])"
   ]
  },
  {
   "cell_type": "code",
   "execution_count": null,
   "metadata": {},
   "outputs": [],
   "source": []
  }
 ],
 "metadata": {
  "kernelspec": {
   "display_name": "Python 3",
   "language": "python",
   "name": "python3"
  },
  "language_info": {
   "codemirror_mode": {
    "name": "ipython",
    "version": 3
   },
   "file_extension": ".py",
   "mimetype": "text/x-python",
   "name": "python",
   "nbconvert_exporter": "python",
   "pygments_lexer": "ipython3",
   "version": "3.7.6"
  }
 },
 "nbformat": 4,
 "nbformat_minor": 2
}
