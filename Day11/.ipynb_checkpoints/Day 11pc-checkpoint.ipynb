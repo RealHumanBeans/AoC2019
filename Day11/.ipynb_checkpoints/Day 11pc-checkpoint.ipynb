{
 "cells": [
  {
   "cell_type": "code",
   "execution_count": 1,
   "metadata": {},
   "outputs": [],
   "source": [
    "# Advent of Code 2019\n",
    "import numpy as np\n",
    "import pandas as pd\n",
    "import re\n",
    "\n",
    "# Input import\n",
    "i = 'pc' # initial\n",
    "\n",
    "d11 = []\n",
    "with open('input_11%s.txt' %i) as f:\n",
    "    lines = f.readlines()\n",
    "    for line in lines:\n",
    "        d11 += [list(map(int,re.findall('-?\\d+\\.?\\d*',line)))]\n",
    "        \n",
    "# Test input\n",
    "# d11 = np.array([[-1,0,2],[2,-10,-7],[4,-8,8],[3,5,-1]])\n",
    "# d11 = np.array([[-8,-10,0],[5,5,10],[2,-7,3],[9,-8,-3]])"
   ]
  },
  {
   "cell_type": "code",
   "execution_count": 2,
   "metadata": {},
   "outputs": [],
   "source": [
    "# Functions\n",
    "def pos_to_vel(pos,vel):\n",
    "    for ii,p1 in enumerate(pos):\n",
    "        for jj,p2 in enumerate(pos):\n",
    "            if ii > jj:\n",
    "                vel[ii] += np.clip(p2-p1,-1,1)\n",
    "                vel[jj] += np.clip(p1-p2,-1,1)\n",
    "    return vel\n",
    "\n",
    "def pos_update(pos,vel):\n",
    "    return pos+vel"
   ]
  },
  {
   "cell_type": "code",
   "execution_count": 3,
   "metadata": {},
   "outputs": [
    {
     "name": "stdout",
     "output_type": "stream",
     "text": [
      "Total energy = 7471\n"
     ]
    }
   ],
   "source": [
    "# Challenge 11.1\n",
    "pos = np.array(d11)\n",
    "vel = np.zeros((len(d11),len(d11[0])))\n",
    "\n",
    "# Step through simulation\n",
    "steps = 1000\n",
    "for ss in range(steps):\n",
    "    vel = pos_to_vel(pos,vel)\n",
    "    pos = pos_update(pos,vel)\n",
    "\n",
    "PE = abs(pos).sum(axis=1)\n",
    "KE = abs(vel).sum(axis=1)\n",
    "print('Total energy = %s' %int(sum(PE*KE)))"
   ]
  },
  {
   "cell_type": "code",
   "execution_count": null,
   "metadata": {
    "collapsed": true
   },
   "outputs": [],
   "source": []
  }
 ],
 "metadata": {
  "kernelspec": {
   "display_name": "Python 3",
   "language": "python",
   "name": "python3"
  },
  "language_info": {
   "codemirror_mode": {
    "name": "ipython",
    "version": 3
   },
   "file_extension": ".py",
   "mimetype": "text/x-python",
   "name": "python",
   "nbconvert_exporter": "python",
   "pygments_lexer": "ipython3",
   "version": "3.6.3"
  }
 },
 "nbformat": 4,
 "nbformat_minor": 2
}
