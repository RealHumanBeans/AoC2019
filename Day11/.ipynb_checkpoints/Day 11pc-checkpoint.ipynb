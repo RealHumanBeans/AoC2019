{
 "cells": [
  {
   "cell_type": "code",
   "execution_count": 1,
   "metadata": {
    "collapsed": true
   },
   "outputs": [],
   "source": [
    "# Advent of Code 2019\n",
    "import numpy as np\n",
    "import pandas as pd\n",
    "import re\n",
    "\n",
    "# Input import\n",
    "i = 'pc' # initial\n",
    "\n",
    "d11 = []\n",
    "with open('input_11%s.txt' %i) as f:\n",
    "    lines = f.readlines()\n",
    "    for line in lines:\n",
    "        d11 += [list(map(int,re.findall('-?\\d+\\.?\\d*',line)))]\n",
    "        \n",
    "# Test input\n",
    "# d11 = np.array([[-1,0,2],[2,-10,-7],[4,-8,8],[3,5,-1]])\n",
    "# d11 = np.array([[-8,-10,0],[5,5,10],[2,-7,3],[9,-8,-3]])\n",
    "ans = 4686774924"
   ]
  },
  {
   "cell_type": "code",
   "execution_count": 2,
   "metadata": {
    "collapsed": true
   },
   "outputs": [],
   "source": [
    "# Functions\n",
    "def pos_to_vel(pos,vel):\n",
    "    for ii,p1 in enumerate(pos):\n",
    "        for jj,p2 in enumerate(pos):\n",
    "            if ii > jj:\n",
    "                # Attract or repel one unit of velocity\n",
    "                vel[ii] += np.clip(p2-p1,-1,1)\n",
    "                vel[jj] += np.clip(p1-p2,-1,1)\n",
    "    return vel\n",
    "\n",
    "def pos_update(pos,vel):\n",
    "    return pos+vel"
   ]
  },
  {
   "cell_type": "code",
   "execution_count": null,
   "metadata": {
    "scrolled": true
   },
   "outputs": [
    {
     "name": "stdout",
     "output_type": "stream",
     "text": [
      "Total energy = 7471\n"
     ]
    }
   ],
   "source": [
    "# Challenge 11.1\n",
    "pos = np.array(d11)\n",
    "vel = np.zeros((len(d11),len(d11[0])))\n",
    "\n",
    "# Step through simulation\n",
    "steps = 1000\n",
    "for ss in range(steps):\n",
    "    vel = pos_to_vel(pos,vel)\n",
    "    pos = pos_update(pos,vel)\n",
    "\n",
    "PE = abs(pos).sum(axis=1)\n",
    "KE = abs(vel).sum(axis=1)\n",
    "print('Total energy = %s' %int(sum(PE*KE)))"
   ]
  },
  {
   "cell_type": "code",
   "execution_count": null,
   "metadata": {
    "scrolled": false
   },
   "outputs": [
    {
     "name": "stdout",
     "output_type": "stream",
     "text": [
      "1000\n",
      "2000\n",
      "3000\n",
      "4000\n",
      "5000\n",
      "6000\n",
      "7000\n",
      "8000\n",
      "9000\n",
      "10000\n",
      "11000\n",
      "12000\n",
      "13000\n",
      "14000\n",
      "15000\n",
      "16000\n",
      "17000\n",
      "18000\n",
      "19000\n",
      "20000\n",
      "21000\n",
      "22000\n",
      "23000\n",
      "24000\n",
      "25000\n",
      "26000\n",
      "27000\n",
      "28000\n",
      "29000\n",
      "30000\n",
      "31000\n",
      "32000\n",
      "33000\n",
      "34000\n",
      "35000\n",
      "36000\n",
      "37000\n",
      "38000\n",
      "39000\n",
      "40000\n",
      "41000\n",
      "42000\n",
      "43000\n",
      "44000\n",
      "45000\n",
      "46000\n",
      "47000\n",
      "48000\n",
      "49000\n",
      "50000\n",
      "51000\n",
      "52000\n",
      "53000\n",
      "54000\n",
      "55000\n",
      "56000\n",
      "57000\n",
      "58000\n",
      "59000\n",
      "60000\n",
      "61000\n",
      "62000\n"
     ]
    }
   ],
   "source": [
    "# Challenge 11.2\n",
    "#ans = 4686774924\n",
    "\n",
    "pos = np.array(d11)\n",
    "vel = np.zeros((len(d11),len(d11[0])))\n",
    "\n",
    "# Step through simulation\n",
    "xList = []\n",
    "yList = []\n",
    "zList = []\n",
    "repList = []\n",
    "step = 0\n",
    "go = 1\n",
    "xgo, ygo, zgo = (1,1,1)\n",
    "\n",
    "while go == 1:\n",
    "    vel = pos_to_vel(pos,vel)\n",
    "    pos = pos_update(pos,vel)\n",
    "    step += 1\n",
    "    \n",
    "    # Tranpose positions to isolate dimensions\n",
    "    posT = list(map(list,zip(*np.append(pos,vel,axis=0))))\n",
    "    \n",
    "    # Save repeated interval\n",
    "    if posT[0] in xList and xgo == 1:\n",
    "        repList += [[xList.index(posT[0])+1, step]]\n",
    "        xList += [posT[0]]\n",
    "        xgo = 0\n",
    "    elif xgo == 0:\n",
    "        pass\n",
    "    else:\n",
    "        xList += [posT[0]]\n",
    "        if step%1000 == 0:\n",
    "            print(step)\n",
    "    if posT[1] in yList and ygo == 1:\n",
    "        repList += [[yList.index(posT[1])+1, step]]\n",
    "        yList += [posT[1]]\n",
    "        ygo = 0\n",
    "    elif ygo == 0:\n",
    "        pass\n",
    "    else:\n",
    "        yList += [posT[1]]\n",
    "    if posT[2] in zList and zgo == 1:\n",
    "        repList += [[zList.index(posT[2])+1, step]]\n",
    "        zList += [posT[2]]\n",
    "        zgo = 0\n",
    "    elif zgo == 0:\n",
    "        pass\n",
    "    else:\n",
    "        zList += [posT[2]]\n",
    "        \n",
    "    # End simulation\n",
    "    if len(repList) >= 3:\n",
    "        go = 0\n",
    "\n",
    "# Frequency (m) and offset (b) of repeats\n",
    "mb = []\n",
    "for ii in range(3):\n",
    "    m = repList[ii][1]-repList[ii][0]\n",
    "    b = repList[ii][0] % m\n",
    "    mb += [[m,b]]\n",
    "\n",
    "print('Repeat = %s, %s, %s' %(mb[0][0], mb[1][0], mb[2][0]))\n",
    "# loop = np.lcm.reduce([mb[0][0], mb[1][0], mb[2][0]])\n",
    "# Check wolframalpha"
   ]
  },
  {
   "cell_type": "code",
   "execution_count": null,
   "metadata": {
    "collapsed": true
   },
   "outputs": [],
   "source": []
  }
 ],
 "metadata": {
  "kernelspec": {
   "display_name": "Python 3",
   "language": "python",
   "name": "python3"
  },
  "language_info": {
   "codemirror_mode": {
    "name": "ipython",
    "version": 3
   },
   "file_extension": ".py",
   "mimetype": "text/x-python",
   "name": "python",
   "nbconvert_exporter": "python",
   "pygments_lexer": "ipython3",
   "version": "3.6.3"
  }
 },
 "nbformat": 4,
 "nbformat_minor": 2
}
